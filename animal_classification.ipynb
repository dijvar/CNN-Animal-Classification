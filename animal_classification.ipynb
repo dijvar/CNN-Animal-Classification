{
  "cells": [
    {
      "cell_type": "code",
      "execution_count": 1,
      "metadata": {
        "colab": {
          "base_uri": "https://localhost:8080/"
        },
        "id": "a1VlW3SYVDfr",
        "outputId": "d3acfd14-e398-4b8a-c1b8-e03f962e7e27"
      },
      "outputs": [
        {
          "output_type": "stream",
          "name": "stdout",
          "text": [
            "Mounted at /content/drive\n"
          ]
        }
      ],
      "source": [
        "# prompt: add drive mount code\n",
        "\n",
        "from google.colab import drive\n",
        "drive.mount('/content/drive')"
      ]
    },
    {
      "cell_type": "code",
      "execution_count": 2,
      "metadata": {
        "colab": {
          "base_uri": "https://localhost:8080/"
        },
        "id": "LUmTEIzYkVib",
        "outputId": "2ceb70cc-2d5a-4377-b2ed-943db6a626fa"
      },
      "outputs": [
        {
          "output_type": "stream",
          "name": "stdout",
          "text": [
            "Sun Dec 22 20:21:23 2024       \n",
            "+---------------------------------------------------------------------------------------+\n",
            "| NVIDIA-SMI 535.104.05             Driver Version: 535.104.05   CUDA Version: 12.2     |\n",
            "|-----------------------------------------+----------------------+----------------------+\n",
            "| GPU  Name                 Persistence-M | Bus-Id        Disp.A | Volatile Uncorr. ECC |\n",
            "| Fan  Temp   Perf          Pwr:Usage/Cap |         Memory-Usage | GPU-Util  Compute M. |\n",
            "|                                         |                      |               MIG M. |\n",
            "|=========================================+======================+======================|\n",
            "|   0  NVIDIA A100-SXM4-40GB          Off | 00000000:00:04.0 Off |                    0 |\n",
            "| N/A   29C    P0              46W / 400W |      2MiB / 40960MiB |      0%      Default |\n",
            "|                                         |                      |             Disabled |\n",
            "+-----------------------------------------+----------------------+----------------------+\n",
            "                                                                                         \n",
            "+---------------------------------------------------------------------------------------+\n",
            "| Processes:                                                                            |\n",
            "|  GPU   GI   CI        PID   Type   Process name                            GPU Memory |\n",
            "|        ID   ID                                                             Usage      |\n",
            "|=======================================================================================|\n",
            "|  No running processes found                                                           |\n",
            "+---------------------------------------------------------------------------------------+\n"
          ]
        }
      ],
      "source": [
        "!nvidia-smi"
      ]
    },
    {
      "cell_type": "code",
      "execution_count": 3,
      "metadata": {
        "colab": {
          "base_uri": "https://localhost:8080/",
          "height": 35
        },
        "id": "S42gnzhdXnxR",
        "outputId": "e6119962-38bc-4f52-d4fa-586cb01c1001"
      },
      "outputs": [
        {
          "output_type": "execute_result",
          "data": {
            "text/plain": [
              "'/content'"
            ],
            "application/vnd.google.colaboratory.intrinsic+json": {
              "type": "string"
            }
          },
          "metadata": {},
          "execution_count": 3
        }
      ],
      "source": [
        "%pwd"
      ]
    },
    {
      "cell_type": "code",
      "execution_count": 4,
      "metadata": {
        "colab": {
          "base_uri": "https://localhost:8080/"
        },
        "id": "ITPwwhLojrjY",
        "outputId": "61c21766-d274-4339-c9de-dcc09928faaf"
      },
      "outputs": [
        {
          "output_type": "stream",
          "name": "stdout",
          "text": [
            "\u001b[0m\u001b[01;34mconfig\u001b[0m/  README.md  requirements.txt  \u001b[01;34msrc\u001b[0m/\n"
          ]
        }
      ],
      "source": [
        "%ls /content/drive/MyDrive/bootcamp/animal_classification/"
      ]
    },
    {
      "cell_type": "code",
      "source": [
        "#drive da çalışalım : /content/drive/MyDrive/bootcamp/animal_classification/\n",
        "%cd /content/drive/MyDrive/bootcamp/animal_classification/"
      ],
      "metadata": {
        "colab": {
          "base_uri": "https://localhost:8080/"
        },
        "id": "hB-19XIn_apj",
        "outputId": "a7e50bb7-49b7-4b23-fcd9-7623cb2efd68"
      },
      "execution_count": 5,
      "outputs": [
        {
          "output_type": "stream",
          "name": "stdout",
          "text": [
            "/content/drive/MyDrive/bootcamp/animal_classification\n"
          ]
        }
      ]
    },
    {
      "cell_type": "code",
      "execution_count": null,
      "metadata": {
        "id": "2WmqUOXaVK1T"
      },
      "outputs": [],
      "source": [
        "#sudo mount --bind /source_folder /destination_folder\n",
        "#!sudo mount --bind /content/drive/MyDrive/bootcamp/animal_classification /content/animal_classification"
      ]
    },
    {
      "cell_type": "code",
      "execution_count": 6,
      "metadata": {
        "id": "L6x_1j7BVKyB",
        "colab": {
          "base_uri": "https://localhost:8080/"
        },
        "outputId": "930cbbf3-5dc5-4b30-9b51-952787959a45"
      },
      "outputs": [
        {
          "output_type": "stream",
          "name": "stdout",
          "text": [
            "Warning: Looks like you're using an outdated `kagglehub` version (installed: 0.3.5), please consider upgrading to the latest version (0.3.6).\n",
            "Downloading from https://www.kaggle.com/api/v1/datasets/download/rrebirrth/animals-with-attributes-2?dataset_version_number=1...\n"
          ]
        },
        {
          "output_type": "stream",
          "name": "stderr",
          "text": [
            "100%|██████████| 13.0G/13.0G [01:02<00:00, 224MB/s]"
          ]
        },
        {
          "output_type": "stream",
          "name": "stdout",
          "text": [
            "Extracting files...\n"
          ]
        },
        {
          "output_type": "stream",
          "name": "stderr",
          "text": [
            "\n"
          ]
        },
        {
          "output_type": "stream",
          "name": "stdout",
          "text": [
            "Data source import complete.\n"
          ]
        }
      ],
      "source": [
        "# IMPORTANT: RUN THIS CELL IN ORDER TO IMPORT YOUR KAGGLE DATA SOURCES,\n",
        "# THEN FEEL FREE TO DELETE THIS CELL.\n",
        "# NOTE: THIS NOTEBOOK ENVIRONMENT DIFFERS FROM KAGGLE'S PYTHON\n",
        "# ENVIRONMENT SO THERE MAY BE MISSING LIBRARIES USED BY YOUR\n",
        "# NOTEBOOK.\n",
        "import kagglehub\n",
        "rrebirrth_animals_with_attributes_2_path = kagglehub.dataset_download('rrebirrth/animals-with-attributes-2')\n",
        "\n",
        "print('Data source import complete.')"
      ]
    },
    {
      "cell_type": "code",
      "source": [
        "%pwd"
      ],
      "metadata": {
        "colab": {
          "base_uri": "https://localhost:8080/",
          "height": 35
        },
        "id": "_NfNcpq5Cv3d",
        "outputId": "7289dfbe-35b3-47b2-ba4a-d2860faedc64"
      },
      "execution_count": 8,
      "outputs": [
        {
          "output_type": "execute_result",
          "data": {
            "text/plain": [
              "'/content/drive/MyDrive/bootcamp/animal_classification'"
            ],
            "application/vnd.google.colaboratory.intrinsic+json": {
              "type": "string"
            }
          },
          "metadata": {},
          "execution_count": 8
        }
      ]
    },
    {
      "cell_type": "code",
      "execution_count": 9,
      "metadata": {
        "id": "GUYf8x70bAEU",
        "colab": {
          "base_uri": "https://localhost:8080/"
        },
        "outputId": "51e05435-e181-470d-855e-b32aae15d3fd"
      },
      "outputs": [
        {
          "output_type": "stream",
          "name": "stdout",
          "text": [
            "Images copied successfully!\n",
            "giant+panda: 650 images, 0 empty\n",
            "polar+bear: 650 images, 0 empty\n",
            "rabbit: 650 images, 0 empty\n",
            "elephant: 650 images, 0 empty\n",
            "collie: 650 images, 0 empty\n",
            "squirrel: 650 images, 0 empty\n",
            "sheep: 650 images, 0 empty\n",
            "fox: 650 images, 0 empty\n",
            "moose: 650 images, 0 empty\n",
            "dolphin: 650 images, 0 empty\n"
          ]
        }
      ],
      "source": [
        "import os\n",
        "import shutil\n",
        "from PIL import Image\n",
        "\n",
        "# Initialize the dictionary to hold paths for each animal\n",
        "image_paths = {}\n",
        "\n",
        "# Base directory for your dataset\n",
        "base_path = \"/root/.cache/kagglehub/datasets/rrebirrth/animals-with-attributes-2/versions/1/Animals_with_Attributes2/JPEGImages/\"\n",
        "\n",
        "# List of animals to search for\n",
        "animals = [\"collie\", \"dolphin\", \"elephant\", \"fox\", \"moose\", \"rabbit\", \"sheep\", \"squirrel\", \"giant+panda\", \"polar+bear\"]\n",
        "\n",
        "# Traverse the directory structure to collect image paths\n",
        "for dirname, _, filenames in os.walk(base_path):\n",
        "    for animal in animals:\n",
        "        if animal in dirname:\n",
        "            if animal not in image_paths:\n",
        "                image_paths[animal] = []\n",
        "            for filename in filenames:\n",
        "                image_paths[animal].append(os.path.join(dirname, filename))\n",
        "\n",
        "datasets_dir = \"dataset/raw\"\n",
        "# Create the 'dataset/raw' directory if it doesn't exist\n",
        "os.makedirs(datasets_dir, exist_ok=True)\n",
        "\n",
        "# Copy the first 650 images for each animal\n",
        "for animal, paths in image_paths.items():\n",
        "    # Create a directory for the current animal within 'dataset/raw'\n",
        "    animal_dir = os.path.join(datasets_dir, animal)\n",
        "    os.makedirs(animal_dir, exist_ok=True)\n",
        "\n",
        "    # Copy the first 650 images\n",
        "    for i, path in enumerate(paths[:650]):\n",
        "        destination_path = os.path.join(animal_dir, os.path.basename(path))\n",
        "        shutil.copy(path, destination_path)\n",
        "\n",
        "print(\"Images copied successfully!\")\n",
        "\n",
        "# Get a list of all class names (subdirectories) within the base directory\n",
        "class_names = [f for f in os.listdir(datasets_dir) if os.path.isdir(os.path.join(datasets_dir, f))]\n",
        "\n",
        "# Loop through each class name and count the images\n",
        "for class_name in class_names:\n",
        "    # Construct the path to the current class's directory\n",
        "    class_dir = os.path.join(datasets_dir, class_name)\n",
        "\n",
        "    # Initialize counters for total and empty images\n",
        "    total_images = 0\n",
        "    empty_images = 0\n",
        "\n",
        "    # Loop through files in the class directory\n",
        "    for filename in os.listdir(class_dir):\n",
        "        # Construct the full file path\n",
        "        file_path = os.path.join(class_dir, filename)\n",
        "\n",
        "        # Check if it's a file (not a subdirectory)\n",
        "        if os.path.isfile(file_path):\n",
        "            total_images += 1\n",
        "\n",
        "            # Attempt to open the image using Pillow\n",
        "            try:\n",
        "                with Image.open(file_path) as img:\n",
        "                    # Check if the image is empty (size is 0)\n",
        "                    if img.size == (0, 0):\n",
        "                        empty_images += 1\n",
        "            except IOError:\n",
        "                # Handle cases where the file is not a valid image\n",
        "                print(f\"Warning: Could not open or read image file: {file_path}\")\n",
        "\n",
        "    # Print the class name, total images, and empty image count\n",
        "    print(f\"{class_name}: {total_images} images, {empty_images} empty\")"
      ]
    },
    {
      "cell_type": "code",
      "execution_count": 10,
      "metadata": {
        "colab": {
          "base_uri": "https://localhost:8080/"
        },
        "id": "P1n2xh_F3FRE",
        "outputId": "98326ad2-caf7-4d69-d6d0-c7c50f5e3906"
      },
      "outputs": [
        {
          "output_type": "stream",
          "name": "stdout",
          "text": [
            "Found GPU at: /device:GPU:0\n"
          ]
        }
      ],
      "source": [
        "import tensorflow as tf\n",
        "device_name = tf.test.gpu_device_name()\n",
        "if device_name != '/device:GPU:0':\n",
        "  raise SystemError('GPU device not found')\n",
        "print('Found GPU at: {}'.format(device_name))"
      ]
    },
    {
      "cell_type": "code",
      "execution_count": 11,
      "metadata": {
        "colab": {
          "base_uri": "https://localhost:8080/"
        },
        "id": "Cmy_qoCh2C_E",
        "outputId": "aade575f-5fc4-484c-af03-dadca5eb1b4d"
      },
      "outputs": [
        {
          "output_type": "stream",
          "name": "stdout",
          "text": [
            "Name: tensorflow\n",
            "Version: 2.17.1\n",
            "Summary: TensorFlow is an open source machine learning framework for everyone.\n",
            "Home-page: https://www.tensorflow.org/\n",
            "Author: Google Inc.\n",
            "Author-email: packages@tensorflow.org\n",
            "License: Apache 2.0\n",
            "Location: /usr/local/lib/python3.10/dist-packages\n",
            "Requires: absl-py, astunparse, flatbuffers, gast, google-pasta, grpcio, h5py, keras, libclang, ml-dtypes, numpy, opt-einsum, packaging, protobuf, requests, setuptools, six, tensorboard, tensorflow-io-gcs-filesystem, termcolor, typing-extensions, wrapt\n",
            "Required-by: dopamine_rl, tf_keras\n",
            "\u001b[33mWARNING: Package(s) not found: tensorflow-gpu\u001b[0m\u001b[33m\n",
            "\u001b[0m"
          ]
        }
      ],
      "source": [
        "!pip show tensorflow\n",
        "!pip show tensorflow-gpu"
      ]
    },
    {
      "cell_type": "code",
      "source": [
        "!python src/train.py"
      ],
      "metadata": {
        "colab": {
          "base_uri": "https://localhost:8080/"
        },
        "id": "70EFBvYvBUVA",
        "outputId": "bcfe0c4d-a767-4709-afc4-7a9d2d53442d"
      },
      "execution_count": null,
      "outputs": [
        {
          "output_type": "stream",
          "name": "stdout",
          "text": [
            "2024-12-22 20:28:15.998804: E external/local_xla/xla/stream_executor/cuda/cuda_fft.cc:485] Unable to register cuFFT factory: Attempting to register factory for plugin cuFFT when one has already been registered\n",
            "2024-12-22 20:28:16.017778: E external/local_xla/xla/stream_executor/cuda/cuda_dnn.cc:8454] Unable to register cuDNN factory: Attempting to register factory for plugin cuDNN when one has already been registered\n",
            "2024-12-22 20:28:16.023545: E external/local_xla/xla/stream_executor/cuda/cuda_blas.cc:1452] Unable to register cuBLAS factory: Attempting to register factory for plugin cuBLAS when one has already been registered\n",
            "2024-12-22 20:28:17.231449: W tensorflow/compiler/tf2tensorrt/utils/py_utils.cc:38] TF-TRT Warning: Could not find TensorRT\n",
            "--------------------Dataset Bilgileri--------------------\n",
            "Sınıf sayısı: 10\n",
            "Sınıflar: ['collie', 'dolphin', 'elephant', 'fox', 'moose', 'rabbit', 'sheep', 'squirrel', 'giant+panda', 'polar+bear']\n",
            "Eksik klasör: dataset/processed/train\n",
            "\n",
            "Veri seti hazırlanıyor...\n",
            "\n",
            "Sınıf işleniyor: collie\n",
            "Toplam görüntü sayısı: 650\n",
            "Train: 364, Validation: 91, Test: 195\n",
            "/usr/local/lib/python3.10/dist-packages/numpy/core/fromnumeric.py:3504: RuntimeWarning: Mean of empty slice.\n",
            "  return _methods._mean(a, axis=axis, dtype=dtype,\n",
            "/usr/local/lib/python3.10/dist-packages/numpy/core/_methods.py:121: RuntimeWarning: invalid value encountered in divide\n",
            "  ret = um.true_divide(\n",
            "/content/drive/MyDrive/bootcamp/animal_classification/src/dataset.py:34: RuntimeWarning: invalid value encountered in cast\n",
            "  image = (image * 255).astype(np.uint8)\n",
            "\n",
            "Sınıf işleniyor: dolphin\n",
            "Toplam görüntü sayısı: 650\n",
            "Train: 364, Validation: 91, Test: 195\n",
            "\n",
            "Sınıf işleniyor: elephant\n",
            "Toplam görüntü sayısı: 650\n",
            "Train: 364, Validation: 91, Test: 195\n",
            "\n",
            "Sınıf işleniyor: fox\n",
            "Toplam görüntü sayısı: 650\n",
            "Train: 364, Validation: 91, Test: 195\n",
            "\n",
            "Sınıf işleniyor: moose\n",
            "Toplam görüntü sayısı: 650\n",
            "Train: 364, Validation: 91, Test: 195\n",
            "\n",
            "Sınıf işleniyor: rabbit\n",
            "Toplam görüntü sayısı: 650\n",
            "Train: 364, Validation: 91, Test: 195\n",
            "\n",
            "Sınıf işleniyor: sheep\n",
            "Toplam görüntü sayısı: 650\n",
            "Train: 364, Validation: 91, Test: 195\n",
            "\n",
            "Sınıf işleniyor: squirrel\n",
            "Toplam görüntü sayısı: 650\n",
            "Train: 364, Validation: 91, Test: 195\n",
            "\n",
            "Sınıf işleniyor: giant+panda\n",
            "Toplam görüntü sayısı: 650\n",
            "Train: 364, Validation: 91, Test: 195\n",
            "\n",
            "Sınıf işleniyor: polar+bear\n",
            "Toplam görüntü sayısı: 650\n",
            "Train: 364, Validation: 91, Test: 195\n",
            "\n",
            "Veri seti hazırlama tamamlandı.\n",
            "\n",
            "Input size 224 için dataset hazırlanıyor...\n",
            "--------------------TRAIN Veri Seti Eğitim için Hazırlanıyor. ## input_size: 224--------------------\n",
            "Found 3640 files belonging to 10 classes.\n",
            "2024-12-22 20:51:06.189215: W tensorflow/core/common_runtime/gpu/gpu_bfc_allocator.cc:47] Overriding orig_value setting because the TF_FORCE_GPU_ALLOW_GROWTH environment variable is set. Original config value was 0.\n",
            "--------------------VAL Veri Seti Eğitim için Hazırlanıyor. ## input_size: 224--------------------\n",
            "Found 910 files belonging to 10 classes.\n",
            "--------------------TEST Veri Seti Eğitim için Hazırlanıyor. ## input_size: 224--------------------\n",
            "Found 1950 files belonging to 10 classes.\n",
            "--------------------TEST_MANIPULATED Veri Seti Eğitim için Hazırlanıyor. ## input_size: 224--------------------\n",
            "Found 5850 files belonging to 10 classes.\n",
            "--------------------TEST_WB Veri Seti Eğitim için Hazırlanıyor. ## input_size: 224--------------------\n",
            "Found 5850 files belonging to 10 classes.\n",
            "\n",
            "Toplam deney sayısı: 36\n",
            "\n",
            "Dataset'ler numpy array'e dönüştürülüyor...\n",
            "\n",
            "Veri seti kontrolleri:\n",
            "Train veri seti: 3640 örnek\n",
            "Validation veri seti: 910 örnek\n",
            "Test veri seti: 1950 örnek\n",
            "Test manipüle veri seti: 5850 örnek\n",
            "Test renk sabitliği veri seti: 5850 örnek\n",
            "\n",
            "==================== Deney 1/36 ====================\n",
            "Deney Adı: exp_size_224_act_relu_lr_0.01_aug_True\n",
            "Input Size: 224\n",
            "Activation: relu\n",
            "Learning Rate: 0.01\n",
            "Data Augmentation: Aktif\n",
            "\u001b[34m\u001b[1mwandb\u001b[0m: Using wandb-core as the SDK backend.  Please refer to https://wandb.me/wandb-core for more information.\n",
            "\u001b[34m\u001b[1mwandb\u001b[0m: Currently logged in as: \u001b[33morhandijvar\u001b[0m. Use \u001b[1m`wandb login --relogin`\u001b[0m to force relogin\n",
            "\u001b[34m\u001b[1mwandb\u001b[0m: Tracking run with wandb version 0.19.1\n",
            "\u001b[34m\u001b[1mwandb\u001b[0m: Run data is saved locally in \u001b[35m\u001b[1mresults/wandb/wandb/run-20241222_205241-ay3c74av\u001b[0m\n",
            "\u001b[34m\u001b[1mwandb\u001b[0m: Run \u001b[1m`wandb offline`\u001b[0m to turn off syncing.\n",
            "\u001b[34m\u001b[1mwandb\u001b[0m: Syncing run \u001b[33mexp_size_224_act_relu_lr_0.01_aug_True\u001b[0m\n",
            "\u001b[34m\u001b[1mwandb\u001b[0m: ⭐️ View project at \u001b[34m\u001b[4mhttps://wandb.ai/orhandijvar/bootcamp-cnn-animal-classification\u001b[0m\n",
            "\u001b[34m\u001b[1mwandb\u001b[0m: 🚀 View run at \u001b[34m\u001b[4mhttps://wandb.ai/orhandijvar/bootcamp-cnn-animal-classification/runs/ay3c74av\u001b[0m\n",
            "\n",
            "Model Mimarisi:\n",
            "--------------------------------------------------\n",
            "\u001b[1mModel: \"functional\"\u001b[0m\n",
            "┏━━━━━━━━━━━━━━━━━━━━━━━━━━━━━━━━━━━━━━┳━━━━━━━━━━━━━━━━━━━━━━━━━━━━━┳━━━━━━━━━━━━━━━━━┓\n",
            "┃\u001b[1m \u001b[0m\u001b[1mLayer (type)                        \u001b[0m\u001b[1m \u001b[0m┃\u001b[1m \u001b[0m\u001b[1mOutput Shape               \u001b[0m\u001b[1m \u001b[0m┃\u001b[1m \u001b[0m\u001b[1m        Param #\u001b[0m\u001b[1m \u001b[0m┃\n",
            "┡━━━━━━━━━━━━━━━━━━━━━━━━━━━━━━━━━━━━━━╇━━━━━━━━━━━━━━━━━━━━━━━━━━━━━╇━━━━━━━━━━━━━━━━━┩\n",
            "│ input_layer (\u001b[94mInputLayer\u001b[0m)             │ (\u001b[96mNone\u001b[0m, \u001b[32m224\u001b[0m, \u001b[32m224\u001b[0m, \u001b[32m3\u001b[0m)         │               \u001b[32m0\u001b[0m │\n",
            "├──────────────────────────────────────┼─────────────────────────────┼─────────────────┤\n",
            "│ conv2d (\u001b[94mConv2D\u001b[0m)                      │ (\u001b[96mNone\u001b[0m, \u001b[32m224\u001b[0m, \u001b[32m224\u001b[0m, \u001b[32m32\u001b[0m)        │             \u001b[32m896\u001b[0m │\n",
            "├──────────────────────────────────────┼─────────────────────────────┼─────────────────┤\n",
            "│ activation (\u001b[94mActivation\u001b[0m)              │ (\u001b[96mNone\u001b[0m, \u001b[32m224\u001b[0m, \u001b[32m224\u001b[0m, \u001b[32m32\u001b[0m)        │               \u001b[32m0\u001b[0m │\n",
            "├──────────────────────────────────────┼─────────────────────────────┼─────────────────┤\n",
            "│ batch_normalization                  │ (\u001b[96mNone\u001b[0m, \u001b[32m224\u001b[0m, \u001b[32m224\u001b[0m, \u001b[32m32\u001b[0m)        │             \u001b[32m128\u001b[0m │\n",
            "│ (\u001b[94mBatchNormalization\u001b[0m)                 │                             │                 │\n",
            "├──────────────────────────────────────┼─────────────────────────────┼─────────────────┤\n",
            "│ max_pooling2d (\u001b[94mMaxPooling2D\u001b[0m)         │ (\u001b[96mNone\u001b[0m, \u001b[32m112\u001b[0m, \u001b[32m112\u001b[0m, \u001b[32m32\u001b[0m)        │               \u001b[32m0\u001b[0m │\n",
            "├──────────────────────────────────────┼─────────────────────────────┼─────────────────┤\n",
            "│ conv2d_1 (\u001b[94mConv2D\u001b[0m)                    │ (\u001b[96mNone\u001b[0m, \u001b[32m112\u001b[0m, \u001b[32m112\u001b[0m, \u001b[32m64\u001b[0m)        │          \u001b[32m18,496\u001b[0m │\n",
            "├──────────────────────────────────────┼─────────────────────────────┼─────────────────┤\n",
            "│ activation_1 (\u001b[94mActivation\u001b[0m)            │ (\u001b[96mNone\u001b[0m, \u001b[32m112\u001b[0m, \u001b[32m112\u001b[0m, \u001b[32m64\u001b[0m)        │               \u001b[32m0\u001b[0m │\n",
            "├──────────────────────────────────────┼─────────────────────────────┼─────────────────┤\n",
            "│ batch_normalization_1                │ (\u001b[96mNone\u001b[0m, \u001b[32m112\u001b[0m, \u001b[32m112\u001b[0m, \u001b[32m64\u001b[0m)        │             \u001b[32m256\u001b[0m │\n",
            "│ (\u001b[94mBatchNormalization\u001b[0m)                 │                             │                 │\n",
            "├──────────────────────────────────────┼─────────────────────────────┼─────────────────┤\n",
            "│ max_pooling2d_1 (\u001b[94mMaxPooling2D\u001b[0m)       │ (\u001b[96mNone\u001b[0m, \u001b[32m56\u001b[0m, \u001b[32m56\u001b[0m, \u001b[32m64\u001b[0m)          │               \u001b[32m0\u001b[0m │\n",
            "├──────────────────────────────────────┼─────────────────────────────┼─────────────────┤\n",
            "│ conv2d_2 (\u001b[94mConv2D\u001b[0m)                    │ (\u001b[96mNone\u001b[0m, \u001b[32m56\u001b[0m, \u001b[32m56\u001b[0m, \u001b[32m128\u001b[0m)         │          \u001b[32m73,856\u001b[0m │\n",
            "├──────────────────────────────────────┼─────────────────────────────┼─────────────────┤\n",
            "│ activation_2 (\u001b[94mActivation\u001b[0m)            │ (\u001b[96mNone\u001b[0m, \u001b[32m56\u001b[0m, \u001b[32m56\u001b[0m, \u001b[32m128\u001b[0m)         │               \u001b[32m0\u001b[0m │\n",
            "├──────────────────────────────────────┼─────────────────────────────┼─────────────────┤\n",
            "│ batch_normalization_2                │ (\u001b[96mNone\u001b[0m, \u001b[32m56\u001b[0m, \u001b[32m56\u001b[0m, \u001b[32m128\u001b[0m)         │             \u001b[32m512\u001b[0m │\n",
            "│ (\u001b[94mBatchNormalization\u001b[0m)                 │                             │                 │\n",
            "├──────────────────────────────────────┼─────────────────────────────┼─────────────────┤\n",
            "│ max_pooling2d_2 (\u001b[94mMaxPooling2D\u001b[0m)       │ (\u001b[96mNone\u001b[0m, \u001b[32m28\u001b[0m, \u001b[32m28\u001b[0m, \u001b[32m128\u001b[0m)         │               \u001b[32m0\u001b[0m │\n",
            "├──────────────────────────────────────┼─────────────────────────────┼─────────────────┤\n",
            "│ flatten (\u001b[94mFlatten\u001b[0m)                    │ (\u001b[96mNone\u001b[0m, \u001b[32m100352\u001b[0m)              │               \u001b[32m0\u001b[0m │\n",
            "├──────────────────────────────────────┼─────────────────────────────┼─────────────────┤\n",
            "│ dense (\u001b[94mDense\u001b[0m)                        │ (\u001b[96mNone\u001b[0m, \u001b[32m256\u001b[0m)                 │      \u001b[32m25,690,368\u001b[0m │\n",
            "├──────────────────────────────────────┼─────────────────────────────┼─────────────────┤\n",
            "│ activation_3 (\u001b[94mActivation\u001b[0m)            │ (\u001b[96mNone\u001b[0m, \u001b[32m256\u001b[0m)                 │               \u001b[32m0\u001b[0m │\n",
            "├──────────────────────────────────────┼─────────────────────────────┼─────────────────┤\n",
            "│ batch_normalization_3                │ (\u001b[96mNone\u001b[0m, \u001b[32m256\u001b[0m)                 │           \u001b[32m1,024\u001b[0m │\n",
            "│ (\u001b[94mBatchNormalization\u001b[0m)                 │                             │                 │\n",
            "├──────────────────────────────────────┼─────────────────────────────┼─────────────────┤\n",
            "│ dropout (\u001b[94mDropout\u001b[0m)                    │ (\u001b[96mNone\u001b[0m, \u001b[32m256\u001b[0m)                 │               \u001b[32m0\u001b[0m │\n",
            "├──────────────────────────────────────┼─────────────────────────────┼─────────────────┤\n",
            "│ dense_1 (\u001b[94mDense\u001b[0m)                      │ (\u001b[96mNone\u001b[0m, \u001b[32m10\u001b[0m)                  │           \u001b[32m2,570\u001b[0m │\n",
            "└──────────────────────────────────────┴─────────────────────────────┴─────────────────┘\n",
            "\u001b[1m Total params: \u001b[0m\u001b[32m25,788,106\u001b[0m (98.37 MB)\n",
            "\u001b[1m Trainable params: \u001b[0m\u001b[32m25,787,146\u001b[0m (98.37 MB)\n",
            "\u001b[1m Non-trainable params: \u001b[0m\u001b[32m960\u001b[0m (3.75 KB)\n",
            "--------------------------------------------------\n",
            "\n",
            "Eğitim başlıyor...\n",
            "Epoch 1/100\n",
            "/usr/local/lib/python3.10/dist-packages/keras/src/trainers/data_adapters/py_dataset_adapter.py:122: UserWarning: Your `PyDataset` class should call `super().__init__(**kwargs)` in its constructor. `**kwargs` can include `workers`, `use_multiprocessing`, `max_queue_size`. Do not pass these arguments to `fit()`, as they will be ignored.\n",
            "  self._warn_if_super_not_called()\n",
            "WARNING: All log messages before absl::InitializeLog() is called are written to STDERR\n",
            "I0000 00:00:1734900773.472628   10390 service.cc:146] XLA service 0x13e1c0003c10 initialized for platform CUDA (this does not guarantee that XLA will be used). Devices:\n",
            "I0000 00:00:1734900773.472683   10390 service.cc:154]   StreamExecutor device (0): NVIDIA A100-SXM4-40GB, Compute Capability 8.0\n",
            "I0000 00:00:1734900781.750106   10390 device_compiler.h:188] Compiled cluster using XLA!  This line is logged at most once for the lifetime of the process.\n",
            "\u001b[1m57/57\u001b[0m \u001b[32m━━━━━━━━━━━━━━━━━━━━\u001b[0m\u001b[37m\u001b[0m \u001b[1m62s\u001b[0m 812ms/step - accuracy: 0.1020 - loss: 5.5956 - val_accuracy: 0.1242 - val_loss: 105.7569\n",
            "Epoch 2/100\n",
            "\u001b[1m57/57\u001b[0m \u001b[32m━━━━━━━━━━━━━━━━━━━━\u001b[0m\u001b[37m\u001b[0m \u001b[1m43s\u001b[0m 662ms/step - accuracy: 0.0972 - loss: 5.7115 - val_accuracy: 0.1077 - val_loss: 81.6119\n",
            "Epoch 3/100\n",
            "\u001b[1m57/57\u001b[0m \u001b[32m━━━━━━━━━━━━━━━━━━━━\u001b[0m\u001b[37m\u001b[0m \u001b[1m43s\u001b[0m 665ms/step - accuracy: 0.0938 - loss: 4.8374 - val_accuracy: 0.1044 - val_loss: 176.2190\n",
            "Epoch 4/100\n",
            "\u001b[1m57/57\u001b[0m \u001b[32m━━━━━━━━━━━━━━━━━━━━\u001b[0m\u001b[37m\u001b[0m \u001b[1m43s\u001b[0m 661ms/step - accuracy: 0.1123 - loss: 4.7861 - val_accuracy: 0.1055 - val_loss: 292.8307\n",
            "Epoch 5/100\n",
            "\u001b[1m57/57\u001b[0m \u001b[32m━━━━━━━━━━━━━━━━━━━━\u001b[0m\u001b[37m\u001b[0m \u001b[1m43s\u001b[0m 663ms/step - accuracy: 0.0951 - loss: 4.9452 - val_accuracy: 0.1000 - val_loss: 408.8615\n",
            "Epoch 6/100\n",
            "\u001b[1m57/57\u001b[0m \u001b[32m━━━━━━━━━━━━━━━━━━━━\u001b[0m\u001b[37m\u001b[0m \u001b[1m44s\u001b[0m 671ms/step - accuracy: 0.1136 - loss: 4.3818 - val_accuracy: 0.1099 - val_loss: 590.9470\n",
            "Epoch 7/100\n",
            "\u001b[1m57/57\u001b[0m \u001b[32m━━━━━━━━━━━━━━━━━━━━\u001b[0m\u001b[37m\u001b[0m \u001b[1m43s\u001b[0m 663ms/step - accuracy: 0.0889 - loss: 4.2142 - val_accuracy: 0.1022 - val_loss: 839.2849\n",
            "Epoch 8/100\n",
            "\u001b[1m57/57\u001b[0m \u001b[32m━━━━━━━━━━━━━━━━━━━━\u001b[0m\u001b[37m\u001b[0m \u001b[1m43s\u001b[0m 662ms/step - accuracy: 0.1005 - loss: 4.3060 - val_accuracy: 0.1077 - val_loss: 704.7231\n",
            "Epoch 9/100\n",
            "\u001b[1m57/57\u001b[0m \u001b[32m━━━━━━━━━━━━━━━━━━━━\u001b[0m\u001b[37m\u001b[0m \u001b[1m44s\u001b[0m 668ms/step - accuracy: 0.1033 - loss: 3.9396 - val_accuracy: 0.1110 - val_loss: 528.0851\n",
            "Epoch 10/100\n",
            "\u001b[1m57/57\u001b[0m \u001b[32m━━━━━━━━━━━━━━━━━━━━\u001b[0m\u001b[37m\u001b[0m \u001b[1m44s\u001b[0m 671ms/step - accuracy: 0.1035 - loss: 3.6324 - val_accuracy: 0.1033 - val_loss: 822.3056\n",
            "Epoch 11/100\n",
            "\u001b[1m57/57\u001b[0m \u001b[32m━━━━━━━━━━━━━━━━━━━━\u001b[0m\u001b[37m\u001b[0m \u001b[1m43s\u001b[0m 663ms/step - accuracy: 0.0973 - loss: 3.6347 - val_accuracy: 0.1121 - val_loss: 506.3691\n",
            "\n",
            "Eğitim geçmişi:\n",
            "Epoch 1: loss=6.1931, acc=0.1005, val_loss=105.7569, val_acc=0.1242\n",
            "Epoch 2: loss=5.4716, acc=0.1063, val_loss=81.6119, val_acc=0.1077\n",
            "Epoch 3: loss=4.7222, acc=0.0984, val_loss=176.2190, val_acc=0.1044\n",
            "Epoch 4: loss=5.0618, acc=0.1063, val_loss=292.8307, val_acc=0.1055\n",
            "Epoch 5: loss=4.7741, acc=0.0989, val_loss=408.8615, val_acc=0.1000\n",
            "Epoch 6: loss=4.2880, acc=0.1052, val_loss=590.9470, val_acc=0.1099\n",
            "Epoch 7: loss=4.2857, acc=0.0841, val_loss=839.2849, val_acc=0.1022\n",
            "Epoch 8: loss=4.2052, acc=0.0959, val_loss=704.7231, val_acc=0.1077\n",
            "Epoch 9: loss=3.8076, acc=0.1005, val_loss=528.0851, val_acc=0.1110\n",
            "Epoch 10: loss=3.6525, acc=0.1014, val_loss=822.3056, val_acc=0.1033\n",
            "Epoch 11: loss=3.4637, acc=0.1041, val_loss=506.3691, val_acc=0.1121\n",
            "\n",
            "Test değerlendirmesi yapılıyor...\n",
            "\n",
            "exp_size_224_act_relu_lr_0.01_aug_True Test Sonuçları:\n",
            "--------------------------------------------------\n",
            "Orijinal Test:\n",
            "Loss: 106.1743\n",
            "Accuracy: 0.1185\n",
            "\n",
            "Manipüle Edilmiş Test:\n",
            "Loss: 67.2381\n",
            "Accuracy: 0.1174\n",
            "\n",
            "Renk Sabitliği Test:\n",
            "Loss: 104.8577\n",
            "Accuracy: 0.1183\n",
            "--------------------------------------------------\n",
            "\u001b[34m\u001b[1mwandb\u001b[0m:                                                                                \n",
            "\u001b[34m\u001b[1mwandb\u001b[0m: \n",
            "\u001b[34m\u001b[1mwandb\u001b[0m: Run history:\n",
            "\u001b[34m\u001b[1mwandb\u001b[0m:            epoch/accuracy ▆█▅█▆█▁▅▆▆▇\n",
            "\u001b[34m\u001b[1mwandb\u001b[0m:               epoch/epoch ▁▂▂▃▄▅▅▆▇▇█\n",
            "\u001b[34m\u001b[1mwandb\u001b[0m:       epoch/learning_rate ▁▁▁▁▁▁▁▁▁▁▁\n",
            "\u001b[34m\u001b[1mwandb\u001b[0m:                epoch/loss █▆▄▅▄▃▃▃▂▁▁\n",
            "\u001b[34m\u001b[1mwandb\u001b[0m:        epoch/val_accuracy █▃▂▃▁▄▂▃▄▂▄\n",
            "\u001b[34m\u001b[1mwandb\u001b[0m:            epoch/val_loss ▁▁▂▃▄▆█▇▅█▅\n",
            "\u001b[34m\u001b[1mwandb\u001b[0m: test_manipulated_accuracy ▁\n",
            "\u001b[34m\u001b[1mwandb\u001b[0m:     test_manipulated_loss ▁\n",
            "\u001b[34m\u001b[1mwandb\u001b[0m:    test_original_accuracy ▁\n",
            "\u001b[34m\u001b[1mwandb\u001b[0m:        test_original_loss ▁\n",
            "\u001b[34m\u001b[1mwandb\u001b[0m:          test_wb_accuracy ▁\n",
            "\u001b[34m\u001b[1mwandb\u001b[0m:              test_wb_loss ▁\n",
            "\u001b[34m\u001b[1mwandb\u001b[0m: \n",
            "\u001b[34m\u001b[1mwandb\u001b[0m: Run summary:\n",
            "\u001b[34m\u001b[1mwandb\u001b[0m:            epoch/accuracy 0.10412\n",
            "\u001b[34m\u001b[1mwandb\u001b[0m:               epoch/epoch 10\n",
            "\u001b[34m\u001b[1mwandb\u001b[0m:       epoch/learning_rate 0.01\n",
            "\u001b[34m\u001b[1mwandb\u001b[0m:                epoch/loss 3.46366\n",
            "\u001b[34m\u001b[1mwandb\u001b[0m:        epoch/val_accuracy 0.11209\n",
            "\u001b[34m\u001b[1mwandb\u001b[0m:            epoch/val_loss 506.36908\n",
            "\u001b[34m\u001b[1mwandb\u001b[0m: test_manipulated_accuracy 0.11744\n",
            "\u001b[34m\u001b[1mwandb\u001b[0m:     test_manipulated_loss 67.23808\n",
            "\u001b[34m\u001b[1mwandb\u001b[0m:    test_original_accuracy 0.11846\n",
            "\u001b[34m\u001b[1mwandb\u001b[0m:        test_original_loss 106.17432\n",
            "\u001b[34m\u001b[1mwandb\u001b[0m:          test_wb_accuracy 0.11829\n",
            "\u001b[34m\u001b[1mwandb\u001b[0m:              test_wb_loss 104.85768\n",
            "\u001b[34m\u001b[1mwandb\u001b[0m: \n",
            "\u001b[34m\u001b[1mwandb\u001b[0m: 🚀 View run \u001b[33mexp_size_224_act_relu_lr_0.01_aug_True\u001b[0m at: \u001b[34m\u001b[4mhttps://wandb.ai/orhandijvar/bootcamp-cnn-animal-classification/runs/ay3c74av\u001b[0m\n",
            "\u001b[34m\u001b[1mwandb\u001b[0m: ⭐️ View project at: \u001b[34m\u001b[4mhttps://wandb.ai/orhandijvar/bootcamp-cnn-animal-classification\u001b[0m\n",
            "\u001b[34m\u001b[1mwandb\u001b[0m: Synced 5 W&B file(s), 0 media file(s), 0 artifact file(s) and 0 other file(s)\n",
            "\u001b[34m\u001b[1mwandb\u001b[0m: Find logs at: \u001b[35m\u001b[1mresults/wandb/wandb/run-20241222_205241-ay3c74av/logs\u001b[0m\n",
            "\n",
            "Deney 1/36 tamamlandı.\n",
            "\n",
            "==================== Deney 2/36 ====================\n",
            "Deney Adı: exp_size_224_act_relu_lr_0.01_aug_False\n",
            "Input Size: 224\n",
            "Activation: relu\n",
            "Learning Rate: 0.01\n",
            "Data Augmentation: Pasif\n",
            "\u001b[34m\u001b[1mwandb\u001b[0m: Tracking run with wandb version 0.19.1\n",
            "\u001b[34m\u001b[1mwandb\u001b[0m: Run data is saved locally in \u001b[35m\u001b[1mresults/wandb/wandb/run-20241222_210119-v3mpbe3t\u001b[0m\n",
            "\u001b[34m\u001b[1mwandb\u001b[0m: Run \u001b[1m`wandb offline`\u001b[0m to turn off syncing.\n",
            "\u001b[34m\u001b[1mwandb\u001b[0m: Syncing run \u001b[33mexp_size_224_act_relu_lr_0.01_aug_False\u001b[0m\n",
            "\u001b[34m\u001b[1mwandb\u001b[0m: ⭐️ View project at \u001b[34m\u001b[4mhttps://wandb.ai/orhandijvar/bootcamp-cnn-animal-classification\u001b[0m\n",
            "\u001b[34m\u001b[1mwandb\u001b[0m: 🚀 View run at \u001b[34m\u001b[4mhttps://wandb.ai/orhandijvar/bootcamp-cnn-animal-classification/runs/v3mpbe3t\u001b[0m\n",
            "\n",
            "Model Mimarisi:\n",
            "--------------------------------------------------\n",
            "\u001b[1mModel: \"functional\"\u001b[0m\n",
            "┏━━━━━━━━━━━━━━━━━━━━━━━━━━━━━━━━━━━━━━┳━━━━━━━━━━━━━━━━━━━━━━━━━━━━━┳━━━━━━━━━━━━━━━━━┓\n",
            "┃\u001b[1m \u001b[0m\u001b[1mLayer (type)                        \u001b[0m\u001b[1m \u001b[0m┃\u001b[1m \u001b[0m\u001b[1mOutput Shape               \u001b[0m\u001b[1m \u001b[0m┃\u001b[1m \u001b[0m\u001b[1m        Param #\u001b[0m\u001b[1m \u001b[0m┃\n",
            "┡━━━━━━━━━━━━━━━━━━━━━━━━━━━━━━━━━━━━━━╇━━━━━━━━━━━━━━━━━━━━━━━━━━━━━╇━━━━━━━━━━━━━━━━━┩\n",
            "│ input_layer (\u001b[94mInputLayer\u001b[0m)             │ (\u001b[96mNone\u001b[0m, \u001b[32m224\u001b[0m, \u001b[32m224\u001b[0m, \u001b[32m3\u001b[0m)         │               \u001b[32m0\u001b[0m │\n",
            "├──────────────────────────────────────┼─────────────────────────────┼─────────────────┤\n",
            "│ conv2d (\u001b[94mConv2D\u001b[0m)                      │ (\u001b[96mNone\u001b[0m, \u001b[32m224\u001b[0m, \u001b[32m224\u001b[0m, \u001b[32m32\u001b[0m)        │             \u001b[32m896\u001b[0m │\n",
            "├──────────────────────────────────────┼─────────────────────────────┼─────────────────┤\n",
            "│ activation (\u001b[94mActivation\u001b[0m)              │ (\u001b[96mNone\u001b[0m, \u001b[32m224\u001b[0m, \u001b[32m224\u001b[0m, \u001b[32m32\u001b[0m)        │               \u001b[32m0\u001b[0m │\n",
            "├──────────────────────────────────────┼─────────────────────────────┼─────────────────┤\n",
            "│ batch_normalization                  │ (\u001b[96mNone\u001b[0m, \u001b[32m224\u001b[0m, \u001b[32m224\u001b[0m, \u001b[32m32\u001b[0m)        │             \u001b[32m128\u001b[0m │\n",
            "│ (\u001b[94mBatchNormalization\u001b[0m)                 │                             │                 │\n",
            "├──────────────────────────────────────┼─────────────────────────────┼─────────────────┤\n",
            "│ max_pooling2d (\u001b[94mMaxPooling2D\u001b[0m)         │ (\u001b[96mNone\u001b[0m, \u001b[32m112\u001b[0m, \u001b[32m112\u001b[0m, \u001b[32m32\u001b[0m)        │               \u001b[32m0\u001b[0m │\n",
            "├──────────────────────────────────────┼─────────────────────────────┼─────────────────┤\n",
            "│ conv2d_1 (\u001b[94mConv2D\u001b[0m)                    │ (\u001b[96mNone\u001b[0m, \u001b[32m112\u001b[0m, \u001b[32m112\u001b[0m, \u001b[32m64\u001b[0m)        │          \u001b[32m18,496\u001b[0m │\n",
            "├──────────────────────────────────────┼─────────────────────────────┼─────────────────┤\n",
            "│ activation_1 (\u001b[94mActivation\u001b[0m)            │ (\u001b[96mNone\u001b[0m, \u001b[32m112\u001b[0m, \u001b[32m112\u001b[0m, \u001b[32m64\u001b[0m)        │               \u001b[32m0\u001b[0m │\n",
            "├──────────────────────────────────────┼─────────────────────────────┼─────────────────┤\n",
            "│ batch_normalization_1                │ (\u001b[96mNone\u001b[0m, \u001b[32m112\u001b[0m, \u001b[32m112\u001b[0m, \u001b[32m64\u001b[0m)        │             \u001b[32m256\u001b[0m │\n",
            "│ (\u001b[94mBatchNormalization\u001b[0m)                 │                             │                 │\n",
            "├──────────────────────────────────────┼─────────────────────────────┼─────────────────┤\n",
            "│ max_pooling2d_1 (\u001b[94mMaxPooling2D\u001b[0m)       │ (\u001b[96mNone\u001b[0m, \u001b[32m56\u001b[0m, \u001b[32m56\u001b[0m, \u001b[32m64\u001b[0m)          │               \u001b[32m0\u001b[0m │\n",
            "├──────────────────────────────────────┼─────────────────────────────┼─────────────────┤\n",
            "│ conv2d_2 (\u001b[94mConv2D\u001b[0m)                    │ (\u001b[96mNone\u001b[0m, \u001b[32m56\u001b[0m, \u001b[32m56\u001b[0m, \u001b[32m128\u001b[0m)         │          \u001b[32m73,856\u001b[0m │\n",
            "├──────────────────────────────────────┼─────────────────────────────┼─────────────────┤\n",
            "│ activation_2 (\u001b[94mActivation\u001b[0m)            │ (\u001b[96mNone\u001b[0m, \u001b[32m56\u001b[0m, \u001b[32m56\u001b[0m, \u001b[32m128\u001b[0m)         │               \u001b[32m0\u001b[0m │\n",
            "├──────────────────────────────────────┼─────────────────────────────┼─────────────────┤\n",
            "│ batch_normalization_2                │ (\u001b[96mNone\u001b[0m, \u001b[32m56\u001b[0m, \u001b[32m56\u001b[0m, \u001b[32m128\u001b[0m)         │             \u001b[32m512\u001b[0m │\n",
            "│ (\u001b[94mBatchNormalization\u001b[0m)                 │                             │                 │\n",
            "├──────────────────────────────────────┼─────────────────────────────┼─────────────────┤\n",
            "│ max_pooling2d_2 (\u001b[94mMaxPooling2D\u001b[0m)       │ (\u001b[96mNone\u001b[0m, \u001b[32m28\u001b[0m, \u001b[32m28\u001b[0m, \u001b[32m128\u001b[0m)         │               \u001b[32m0\u001b[0m │\n",
            "├──────────────────────────────────────┼─────────────────────────────┼─────────────────┤\n",
            "│ flatten (\u001b[94mFlatten\u001b[0m)                    │ (\u001b[96mNone\u001b[0m, \u001b[32m100352\u001b[0m)              │               \u001b[32m0\u001b[0m │\n",
            "├──────────────────────────────────────┼─────────────────────────────┼─────────────────┤\n",
            "│ dense (\u001b[94mDense\u001b[0m)                        │ (\u001b[96mNone\u001b[0m, \u001b[32m256\u001b[0m)                 │      \u001b[32m25,690,368\u001b[0m │\n",
            "├──────────────────────────────────────┼─────────────────────────────┼─────────────────┤\n",
            "│ activation_3 (\u001b[94mActivation\u001b[0m)            │ (\u001b[96mNone\u001b[0m, \u001b[32m256\u001b[0m)                 │               \u001b[32m0\u001b[0m │\n",
            "├──────────────────────────────────────┼─────────────────────────────┼─────────────────┤\n",
            "│ batch_normalization_3                │ (\u001b[96mNone\u001b[0m, \u001b[32m256\u001b[0m)                 │           \u001b[32m1,024\u001b[0m │\n",
            "│ (\u001b[94mBatchNormalization\u001b[0m)                 │                             │                 │\n",
            "├──────────────────────────────────────┼─────────────────────────────┼─────────────────┤\n",
            "│ dropout (\u001b[94mDropout\u001b[0m)                    │ (\u001b[96mNone\u001b[0m, \u001b[32m256\u001b[0m)                 │               \u001b[32m0\u001b[0m │\n",
            "├──────────────────────────────────────┼─────────────────────────────┼─────────────────┤\n",
            "│ dense_1 (\u001b[94mDense\u001b[0m)                      │ (\u001b[96mNone\u001b[0m, \u001b[32m10\u001b[0m)                  │           \u001b[32m2,570\u001b[0m │\n",
            "└──────────────────────────────────────┴─────────────────────────────┴─────────────────┘\n",
            "\u001b[1m Total params: \u001b[0m\u001b[32m25,788,106\u001b[0m (98.37 MB)\n",
            "\u001b[1m Trainable params: \u001b[0m\u001b[32m25,787,146\u001b[0m (98.37 MB)\n",
            "\u001b[1m Non-trainable params: \u001b[0m\u001b[32m960\u001b[0m (3.75 KB)\n",
            "--------------------------------------------------\n",
            "\n",
            "Eğitim başlıyor...\n",
            "Epoch 1/100\n",
            "\u001b[1m57/57\u001b[0m \u001b[32m━━━━━━━━━━━━━━━━━━━━\u001b[0m\u001b[37m\u001b[0m \u001b[1m13s\u001b[0m 141ms/step - accuracy: 0.3025 - loss: 6.9054 - val_accuracy: 0.1626 - val_loss: 10.3469\n",
            "Epoch 2/100\n",
            "\u001b[1m57/57\u001b[0m \u001b[32m━━━━━━━━━━━━━━━━━━━━\u001b[0m\u001b[37m\u001b[0m \u001b[1m3s\u001b[0m 56ms/step - accuracy: 0.4802 - loss: 8.5487 - val_accuracy: 0.2462 - val_loss: 7.9015\n",
            "Epoch 3/100\n",
            "\u001b[1m57/57\u001b[0m \u001b[32m━━━━━━━━━━━━━━━━━━━━\u001b[0m\u001b[37m\u001b[0m \u001b[1m3s\u001b[0m 57ms/step - accuracy: 0.5453 - loss: 6.6066 - val_accuracy: 0.2736 - val_loss: 6.2417\n",
            "Epoch 4/100\n",
            "\u001b[1m57/57\u001b[0m \u001b[32m━━━━━━━━━━━━━━━━━━━━\u001b[0m\u001b[37m\u001b[0m \u001b[1m2s\u001b[0m 29ms/step - accuracy: 0.5847 - loss: 5.1445 - val_accuracy: 0.2330 - val_loss: 6.1283\n",
            "Epoch 5/100\n",
            "\u001b[1m57/57\u001b[0m \u001b[32m━━━━━━━━━━━━━━━━━━━━\u001b[0m\u001b[37m\u001b[0m \u001b[1m3s\u001b[0m 56ms/step - accuracy: 0.6318 - loss: 4.0632 - val_accuracy: 0.3077 - val_loss: 4.6447\n",
            "Epoch 6/100\n",
            "\u001b[1m57/57\u001b[0m \u001b[32m━━━━━━━━━━━━━━━━━━━━\u001b[0m\u001b[37m\u001b[0m \u001b[1m2s\u001b[0m 29ms/step - accuracy: 0.7021 - loss: 3.3275 - val_accuracy: 0.2989 - val_loss: 4.4884\n",
            "Epoch 7/100\n",
            "\u001b[1m57/57\u001b[0m \u001b[32m━━━━━━━━━━━━━━━━━━━━\u001b[0m\u001b[37m\u001b[0m \u001b[1m3s\u001b[0m 57ms/step - accuracy: 0.7367 - loss: 2.8187 - val_accuracy: 0.4242 - val_loss: 3.7036\n",
            "Epoch 8/100\n",
            "\u001b[1m57/57\u001b[0m \u001b[32m━━━━━━━━━━━━━━━━━━━━\u001b[0m\u001b[37m\u001b[0m \u001b[1m2s\u001b[0m 30ms/step - accuracy: 0.7867 - loss: 2.4588 - val_accuracy: 0.3220 - val_loss: 4.2677\n",
            "Epoch 9/100\n",
            "\u001b[1m57/57\u001b[0m \u001b[32m━━━━━━━━━━━━━━━━━━━━\u001b[0m\u001b[37m\u001b[0m \u001b[1m3s\u001b[0m 55ms/step - accuracy: 0.8286 - loss: 2.3178 - val_accuracy: 0.4780 - val_loss: 3.6610\n",
            "Epoch 10/100\n",
            "\u001b[1m57/57\u001b[0m \u001b[32m━━━━━━━━━━━━━━━━━━━━\u001b[0m\u001b[37m\u001b[0m \u001b[1m2s\u001b[0m 30ms/step - accuracy: 0.8483 - loss: 2.3952 - val_accuracy: 0.4011 - val_loss: 4.2884\n",
            "Epoch 11/100\n",
            "\u001b[1m57/57\u001b[0m \u001b[32m━━━━━━━━━━━━━━━━━━━━\u001b[0m\u001b[37m\u001b[0m \u001b[1m3s\u001b[0m 56ms/step - accuracy: 0.8732 - loss: 2.3879 - val_accuracy: 0.5396 - val_loss: 3.4449\n",
            "Epoch 12/100\n",
            "\u001b[1m57/57\u001b[0m \u001b[32m━━━━━━━━━━━━━━━━━━━━\u001b[0m\u001b[37m\u001b[0m \u001b[1m2s\u001b[0m 30ms/step - accuracy: 0.9106 - loss: 2.1715 - val_accuracy: 0.5033 - val_loss: 3.9561\n",
            "Epoch 13/100\n",
            "\u001b[1m57/57\u001b[0m \u001b[32m━━━━━━━━━━━━━━━━━━━━\u001b[0m\u001b[37m\u001b[0m \u001b[1m3s\u001b[0m 56ms/step - accuracy: 0.8926 - loss: 2.4783 - val_accuracy: 0.5462 - val_loss: 4.0460\n",
            "Epoch 14/100\n",
            "\u001b[1m57/57\u001b[0m \u001b[32m━━━━━━━━━━━━━━━━━━━━\u001b[0m\u001b[37m\u001b[0m \u001b[1m2s\u001b[0m 29ms/step - accuracy: 0.9119 - loss: 2.5752 - val_accuracy: 0.4802 - val_loss: 4.3386\n",
            "Epoch 15/100\n",
            "\u001b[1m57/57\u001b[0m \u001b[32m━━━━━━━━━━━━━━━━━━━━\u001b[0m\u001b[37m\u001b[0m \u001b[1m2s\u001b[0m 29ms/step - accuracy: 0.8992 - loss: 2.7561 - val_accuracy: 0.4901 - val_loss: 4.6838\n",
            "Epoch 16/100\n",
            "\u001b[1m57/57\u001b[0m \u001b[32m━━━━━━━━━━━━━━━━━━━━\u001b[0m\u001b[37m\u001b[0m \u001b[1m2s\u001b[0m 29ms/step - accuracy: 0.9110 - loss: 2.8426 - val_accuracy: 0.4780 - val_loss: 4.6576\n",
            "Epoch 17/100\n",
            "\u001b[1m57/57\u001b[0m \u001b[32m━━━━━━━━━━━━━━━━━━━━\u001b[0m\u001b[37m\u001b[0m \u001b[1m2s\u001b[0m 30ms/step - accuracy: 0.9231 - loss: 2.7766 - val_accuracy: 0.3835 - val_loss: 5.4189\n",
            "Epoch 18/100\n",
            "\u001b[1m57/57\u001b[0m \u001b[32m━━━━━━━━━━━━━━━━━━━━\u001b[0m\u001b[37m\u001b[0m \u001b[1m2s\u001b[0m 29ms/step - accuracy: 0.9311 - loss: 2.7823 - val_accuracy: 0.5418 - val_loss: 4.4957\n",
            "Epoch 19/100\n",
            "\u001b[1m57/57\u001b[0m \u001b[32m━━━━━━━━━━━━━━━━━━━━\u001b[0m\u001b[37m\u001b[0m \u001b[1m2s\u001b[0m 29ms/step - accuracy: 0.9355 - loss: 2.6962 - val_accuracy: 0.4110 - val_loss: 5.8237\n",
            "Epoch 20/100\n",
            "\u001b[1m57/57\u001b[0m \u001b[32m━━━━━━━━━━━━━━━━━━━━\u001b[0m\u001b[37m\u001b[0m \u001b[1m2s\u001b[0m 30ms/step - accuracy: 0.9273 - loss: 2.8301 - val_accuracy: 0.4967 - val_loss: 4.7572\n",
            "Epoch 21/100\n",
            "\u001b[1m57/57\u001b[0m \u001b[32m━━━━━━━━━━━━━━━━━━━━\u001b[0m\u001b[37m\u001b[0m \u001b[1m2s\u001b[0m 29ms/step - accuracy: 0.9212 - loss: 2.9260 - val_accuracy: 0.4857 - val_loss: 4.8609\n",
            "Epoch 22/100\n",
            "\u001b[1m57/57\u001b[0m \u001b[32m━━━━━━━━━━━━━━━━━━━━\u001b[0m\u001b[37m\u001b[0m \u001b[1m2s\u001b[0m 29ms/step - accuracy: 0.9359 - loss: 2.8252 - val_accuracy: 0.5374 - val_loss: 4.1175\n",
            "Epoch 23/100\n",
            "\u001b[1m57/57\u001b[0m \u001b[32m━━━━━━━━━━━━━━━━━━━━\u001b[0m\u001b[37m\u001b[0m \u001b[1m2s\u001b[0m 29ms/step - accuracy: 0.9467 - loss: 2.4322 - val_accuracy: 0.4978 - val_loss: 4.5962\n",
            "\n",
            "Eğitim geçmişi:\n",
            "Epoch 1: loss=8.4734, acc=0.3643, val_loss=10.3469, val_acc=0.1626\n",
            "Epoch 2: loss=8.1200, acc=0.4668, val_loss=7.9015, val_acc=0.2462\n",
            "Epoch 3: loss=6.2561, acc=0.5349, val_loss=6.2417, val_acc=0.2736\n",
            "Epoch 4: loss=4.9113, acc=0.5805, val_loss=6.1283, val_acc=0.2330\n",
            "Epoch 5: loss=3.9431, acc=0.6253, val_loss=4.6447, val_acc=0.3077\n",
            "Epoch 6: loss=3.2680, acc=0.6802, val_loss=4.4884, val_acc=0.2989\n",
            "Epoch 7: loss=2.8253, acc=0.7113, val_loss=3.7036, val_acc=0.4242\n",
            "Epoch 8: loss=2.4741, acc=0.7613, val_loss=4.2677, val_acc=0.3220\n",
            "Epoch 9: loss=2.3735, acc=0.7986, val_loss=3.6610, val_acc=0.4780\n",
            "Epoch 10: loss=2.4377, acc=0.8310, val_loss=4.2884, val_acc=0.4011\n",
            "Epoch 11: loss=2.3149, acc=0.8692, val_loss=3.4449, val_acc=0.5396\n",
            "Epoch 12: loss=2.2145, acc=0.8964, val_loss=3.9561, val_acc=0.5033\n",
            "Epoch 13: loss=2.5386, acc=0.8755, val_loss=4.0460, val_acc=0.5462\n",
            "Epoch 14: loss=2.5852, acc=0.8929, val_loss=4.3386, val_acc=0.4802\n",
            "Epoch 15: loss=2.7985, acc=0.8874, val_loss=4.6838, val_acc=0.4901\n",
            "Epoch 16: loss=2.8452, acc=0.9022, val_loss=4.6576, val_acc=0.4780\n",
            "Epoch 17: loss=2.7404, acc=0.9113, val_loss=5.4189, val_acc=0.3835\n",
            "Epoch 18: loss=2.7964, acc=0.9137, val_loss=4.4957, val_acc=0.5418\n",
            "Epoch 19: loss=2.7142, acc=0.9187, val_loss=5.8237, val_acc=0.4110\n",
            "Epoch 20: loss=2.9020, acc=0.9082, val_loss=4.7572, val_acc=0.4967\n",
            "Epoch 21: loss=2.8997, acc=0.9082, val_loss=4.8609, val_acc=0.4857\n",
            "Epoch 22: loss=2.7388, acc=0.9302, val_loss=4.1175, val_acc=0.5374\n",
            "Epoch 23: loss=2.4060, acc=0.9385, val_loss=4.5962, val_acc=0.4978\n",
            "\n",
            "Test değerlendirmesi yapılıyor...\n",
            "\n",
            "exp_size_224_act_relu_lr_0.01_aug_False Test Sonuçları:\n",
            "--------------------------------------------------\n",
            "Orijinal Test:\n",
            "Loss: 4.1442\n",
            "Accuracy: 0.5297\n",
            "\n",
            "Manipüle Edilmiş Test:\n",
            "Loss: 8.5463\n",
            "Accuracy: 0.1877\n",
            "\n",
            "Renk Sabitliği Test:\n",
            "Loss: 4.1717\n",
            "Accuracy: 0.5156\n",
            "--------------------------------------------------\n",
            "\u001b[34m\u001b[1mwandb\u001b[0m:                                                                                \n",
            "\u001b[34m\u001b[1mwandb\u001b[0m: \n",
            "\u001b[34m\u001b[1mwandb\u001b[0m: Run history:\n",
            "\u001b[34m\u001b[1mwandb\u001b[0m:            epoch/accuracy ▁▂▃▄▄▅▅▆▆▇▇▇▇▇▇████████\n",
            "\u001b[34m\u001b[1mwandb\u001b[0m:               epoch/epoch ▁▁▂▂▂▃▃▃▄▄▄▅▅▅▅▆▆▆▇▇▇██\n",
            "\u001b[34m\u001b[1mwandb\u001b[0m:       epoch/learning_rate ▁▁▁▁▁▁▁▁▁▁▁▁▁▁▁▁▁▁▁▁▁▁▁\n",
            "\u001b[34m\u001b[1mwandb\u001b[0m:                epoch/loss ██▆▄▃▂▂▁▁▁▁▁▁▁▂▂▂▂▂▂▂▂▁\n",
            "\u001b[34m\u001b[1mwandb\u001b[0m:        epoch/val_accuracy ▁▃▃▂▄▃▆▄▇▅█▇█▇▇▇▅█▆▇▇█▇\n",
            "\u001b[34m\u001b[1mwandb\u001b[0m:            epoch/val_loss █▆▄▄▂▂▁▂▁▂▁▂▂▂▂▂▃▂▃▂▂▂▂\n",
            "\u001b[34m\u001b[1mwandb\u001b[0m: test_manipulated_accuracy ▁\n",
            "\u001b[34m\u001b[1mwandb\u001b[0m:     test_manipulated_loss ▁\n",
            "\u001b[34m\u001b[1mwandb\u001b[0m:    test_original_accuracy ▁\n",
            "\u001b[34m\u001b[1mwandb\u001b[0m:        test_original_loss ▁\n",
            "\u001b[34m\u001b[1mwandb\u001b[0m:          test_wb_accuracy ▁\n",
            "\u001b[34m\u001b[1mwandb\u001b[0m:              test_wb_loss ▁\n",
            "\u001b[34m\u001b[1mwandb\u001b[0m: \n",
            "\u001b[34m\u001b[1mwandb\u001b[0m: Run summary:\n",
            "\u001b[34m\u001b[1mwandb\u001b[0m:            epoch/accuracy 0.93846\n",
            "\u001b[34m\u001b[1mwandb\u001b[0m:               epoch/epoch 22\n",
            "\u001b[34m\u001b[1mwandb\u001b[0m:       epoch/learning_rate 0.01\n",
            "\u001b[34m\u001b[1mwandb\u001b[0m:                epoch/loss 2.406\n",
            "\u001b[34m\u001b[1mwandb\u001b[0m:        epoch/val_accuracy 0.4978\n",
            "\u001b[34m\u001b[1mwandb\u001b[0m:            epoch/val_loss 4.59623\n",
            "\u001b[34m\u001b[1mwandb\u001b[0m: test_manipulated_accuracy 0.18769\n",
            "\u001b[34m\u001b[1mwandb\u001b[0m:     test_manipulated_loss 8.54633\n",
            "\u001b[34m\u001b[1mwandb\u001b[0m:    test_original_accuracy 0.52974\n",
            "\u001b[34m\u001b[1mwandb\u001b[0m:        test_original_loss 4.14421\n",
            "\u001b[34m\u001b[1mwandb\u001b[0m:          test_wb_accuracy 0.51556\n",
            "\u001b[34m\u001b[1mwandb\u001b[0m:              test_wb_loss 4.1717\n",
            "\u001b[34m\u001b[1mwandb\u001b[0m: \n",
            "\u001b[34m\u001b[1mwandb\u001b[0m: 🚀 View run \u001b[33mexp_size_224_act_relu_lr_0.01_aug_False\u001b[0m at: \u001b[34m\u001b[4mhttps://wandb.ai/orhandijvar/bootcamp-cnn-animal-classification/runs/v3mpbe3t\u001b[0m\n",
            "\u001b[34m\u001b[1mwandb\u001b[0m: ⭐️ View project at: \u001b[34m\u001b[4mhttps://wandb.ai/orhandijvar/bootcamp-cnn-animal-classification\u001b[0m\n",
            "\u001b[34m\u001b[1mwandb\u001b[0m: Synced 5 W&B file(s), 0 media file(s), 0 artifact file(s) and 0 other file(s)\n",
            "\u001b[34m\u001b[1mwandb\u001b[0m: Find logs at: \u001b[35m\u001b[1mresults/wandb/wandb/run-20241222_210119-v3mpbe3t/logs\u001b[0m\n",
            "\n",
            "Deney 2/36 tamamlandı.\n",
            "\n",
            "==================== Deney 3/36 ====================\n",
            "Deney Adı: exp_size_224_act_relu_lr_0.001_aug_True\n",
            "Input Size: 224\n",
            "Activation: relu\n",
            "Learning Rate: 0.001\n",
            "Data Augmentation: Aktif\n",
            "\u001b[34m\u001b[1mwandb\u001b[0m: Tracking run with wandb version 0.19.1\n",
            "\u001b[34m\u001b[1mwandb\u001b[0m: Run data is saved locally in \u001b[35m\u001b[1mresults/wandb/wandb/run-20241222_210238-me79fvsb\u001b[0m\n",
            "\u001b[34m\u001b[1mwandb\u001b[0m: Run \u001b[1m`wandb offline`\u001b[0m to turn off syncing.\n",
            "\u001b[34m\u001b[1mwandb\u001b[0m: Syncing run \u001b[33mexp_size_224_act_relu_lr_0.001_aug_True\u001b[0m\n",
            "\u001b[34m\u001b[1mwandb\u001b[0m: ⭐️ View project at \u001b[34m\u001b[4mhttps://wandb.ai/orhandijvar/bootcamp-cnn-animal-classification\u001b[0m\n",
            "\u001b[34m\u001b[1mwandb\u001b[0m: 🚀 View run at \u001b[34m\u001b[4mhttps://wandb.ai/orhandijvar/bootcamp-cnn-animal-classification/runs/me79fvsb\u001b[0m\n",
            "\n",
            "Model Mimarisi:\n",
            "--------------------------------------------------\n",
            "\u001b[1mModel: \"functional\"\u001b[0m\n",
            "┏━━━━━━━━━━━━━━━━━━━━━━━━━━━━━━━━━━━━━━┳━━━━━━━━━━━━━━━━━━━━━━━━━━━━━┳━━━━━━━━━━━━━━━━━┓\n",
            "┃\u001b[1m \u001b[0m\u001b[1mLayer (type)                        \u001b[0m\u001b[1m \u001b[0m┃\u001b[1m \u001b[0m\u001b[1mOutput Shape               \u001b[0m\u001b[1m \u001b[0m┃\u001b[1m \u001b[0m\u001b[1m        Param #\u001b[0m\u001b[1m \u001b[0m┃\n",
            "┡━━━━━━━━━━━━━━━━━━━━━━━━━━━━━━━━━━━━━━╇━━━━━━━━━━━━━━━━━━━━━━━━━━━━━╇━━━━━━━━━━━━━━━━━┩\n",
            "│ input_layer (\u001b[94mInputLayer\u001b[0m)             │ (\u001b[96mNone\u001b[0m, \u001b[32m224\u001b[0m, \u001b[32m224\u001b[0m, \u001b[32m3\u001b[0m)         │               \u001b[32m0\u001b[0m │\n",
            "├──────────────────────────────────────┼─────────────────────────────┼─────────────────┤\n",
            "│ conv2d (\u001b[94mConv2D\u001b[0m)                      │ (\u001b[96mNone\u001b[0m, \u001b[32m224\u001b[0m, \u001b[32m224\u001b[0m, \u001b[32m32\u001b[0m)        │             \u001b[32m896\u001b[0m │\n",
            "├──────────────────────────────────────┼─────────────────────────────┼─────────────────┤\n",
            "│ activation (\u001b[94mActivation\u001b[0m)              │ (\u001b[96mNone\u001b[0m, \u001b[32m224\u001b[0m, \u001b[32m224\u001b[0m, \u001b[32m32\u001b[0m)        │               \u001b[32m0\u001b[0m │\n",
            "├──────────────────────────────────────┼─────────────────────────────┼─────────────────┤\n",
            "│ batch_normalization                  │ (\u001b[96mNone\u001b[0m, \u001b[32m224\u001b[0m, \u001b[32m224\u001b[0m, \u001b[32m32\u001b[0m)        │             \u001b[32m128\u001b[0m │\n",
            "│ (\u001b[94mBatchNormalization\u001b[0m)                 │                             │                 │\n",
            "├──────────────────────────────────────┼─────────────────────────────┼─────────────────┤\n",
            "│ max_pooling2d (\u001b[94mMaxPooling2D\u001b[0m)         │ (\u001b[96mNone\u001b[0m, \u001b[32m112\u001b[0m, \u001b[32m112\u001b[0m, \u001b[32m32\u001b[0m)        │               \u001b[32m0\u001b[0m │\n",
            "├──────────────────────────────────────┼─────────────────────────────┼─────────────────┤\n",
            "│ conv2d_1 (\u001b[94mConv2D\u001b[0m)                    │ (\u001b[96mNone\u001b[0m, \u001b[32m112\u001b[0m, \u001b[32m112\u001b[0m, \u001b[32m64\u001b[0m)        │          \u001b[32m18,496\u001b[0m │\n",
            "├──────────────────────────────────────┼─────────────────────────────┼─────────────────┤\n",
            "│ activation_1 (\u001b[94mActivation\u001b[0m)            │ (\u001b[96mNone\u001b[0m, \u001b[32m112\u001b[0m, \u001b[32m112\u001b[0m, \u001b[32m64\u001b[0m)        │               \u001b[32m0\u001b[0m │\n",
            "├──────────────────────────────────────┼─────────────────────────────┼─────────────────┤\n",
            "│ batch_normalization_1                │ (\u001b[96mNone\u001b[0m, \u001b[32m112\u001b[0m, \u001b[32m112\u001b[0m, \u001b[32m64\u001b[0m)        │             \u001b[32m256\u001b[0m │\n",
            "│ (\u001b[94mBatchNormalization\u001b[0m)                 │                             │                 │\n",
            "├──────────────────────────────────────┼─────────────────────────────┼─────────────────┤\n",
            "│ max_pooling2d_1 (\u001b[94mMaxPooling2D\u001b[0m)       │ (\u001b[96mNone\u001b[0m, \u001b[32m56\u001b[0m, \u001b[32m56\u001b[0m, \u001b[32m64\u001b[0m)          │               \u001b[32m0\u001b[0m │\n",
            "├──────────────────────────────────────┼─────────────────────────────┼─────────────────┤\n",
            "│ conv2d_2 (\u001b[94mConv2D\u001b[0m)                    │ (\u001b[96mNone\u001b[0m, \u001b[32m56\u001b[0m, \u001b[32m56\u001b[0m, \u001b[32m128\u001b[0m)         │          \u001b[32m73,856\u001b[0m │\n",
            "├──────────────────────────────────────┼─────────────────────────────┼─────────────────┤\n",
            "│ activation_2 (\u001b[94mActivation\u001b[0m)            │ (\u001b[96mNone\u001b[0m, \u001b[32m56\u001b[0m, \u001b[32m56\u001b[0m, \u001b[32m128\u001b[0m)         │               \u001b[32m0\u001b[0m │\n",
            "├──────────────────────────────────────┼─────────────────────────────┼─────────────────┤\n",
            "│ batch_normalization_2                │ (\u001b[96mNone\u001b[0m, \u001b[32m56\u001b[0m, \u001b[32m56\u001b[0m, \u001b[32m128\u001b[0m)         │             \u001b[32m512\u001b[0m │\n",
            "│ (\u001b[94mBatchNormalization\u001b[0m)                 │                             │                 │\n",
            "├──────────────────────────────────────┼─────────────────────────────┼─────────────────┤\n",
            "│ max_pooling2d_2 (\u001b[94mMaxPooling2D\u001b[0m)       │ (\u001b[96mNone\u001b[0m, \u001b[32m28\u001b[0m, \u001b[32m28\u001b[0m, \u001b[32m128\u001b[0m)         │               \u001b[32m0\u001b[0m │\n",
            "├──────────────────────────────────────┼─────────────────────────────┼─────────────────┤\n",
            "│ flatten (\u001b[94mFlatten\u001b[0m)                    │ (\u001b[96mNone\u001b[0m, \u001b[32m100352\u001b[0m)              │               \u001b[32m0\u001b[0m │\n",
            "├──────────────────────────────────────┼─────────────────────────────┼─────────────────┤\n",
            "│ dense (\u001b[94mDense\u001b[0m)                        │ (\u001b[96mNone\u001b[0m, \u001b[32m256\u001b[0m)                 │      \u001b[32m25,690,368\u001b[0m │\n",
            "├──────────────────────────────────────┼─────────────────────────────┼─────────────────┤\n",
            "│ activation_3 (\u001b[94mActivation\u001b[0m)            │ (\u001b[96mNone\u001b[0m, \u001b[32m256\u001b[0m)                 │               \u001b[32m0\u001b[0m │\n",
            "├──────────────────────────────────────┼─────────────────────────────┼─────────────────┤\n",
            "│ batch_normalization_3                │ (\u001b[96mNone\u001b[0m, \u001b[32m256\u001b[0m)                 │           \u001b[32m1,024\u001b[0m │\n",
            "│ (\u001b[94mBatchNormalization\u001b[0m)                 │                             │                 │\n",
            "├──────────────────────────────────────┼─────────────────────────────┼─────────────────┤\n",
            "│ dropout (\u001b[94mDropout\u001b[0m)                    │ (\u001b[96mNone\u001b[0m, \u001b[32m256\u001b[0m)                 │               \u001b[32m0\u001b[0m │\n",
            "├──────────────────────────────────────┼─────────────────────────────┼─────────────────┤\n",
            "│ dense_1 (\u001b[94mDense\u001b[0m)                      │ (\u001b[96mNone\u001b[0m, \u001b[32m10\u001b[0m)                  │           \u001b[32m2,570\u001b[0m │\n",
            "└──────────────────────────────────────┴─────────────────────────────┴─────────────────┘\n",
            "\u001b[1m Total params: \u001b[0m\u001b[32m25,788,106\u001b[0m (98.37 MB)\n",
            "\u001b[1m Trainable params: \u001b[0m\u001b[32m25,787,146\u001b[0m (98.37 MB)\n",
            "\u001b[1m Non-trainable params: \u001b[0m\u001b[32m960\u001b[0m (3.75 KB)\n",
            "--------------------------------------------------\n",
            "\n",
            "Eğitim başlıyor...\n",
            "Epoch 1/100\n",
            "\u001b[1m57/57\u001b[0m \u001b[32m━━━━━━━━━━━━━━━━━━━━\u001b[0m\u001b[37m\u001b[0m \u001b[1m51s\u001b[0m 723ms/step - accuracy: 0.1068 - loss: 2.8731 - val_accuracy: 0.1176 - val_loss: 2.7867\n",
            "Epoch 2/100\n",
            "\u001b[1m57/57\u001b[0m \u001b[32m━━━━━━━━━━━━━━━━━━━━\u001b[0m\u001b[37m\u001b[0m \u001b[1m43s\u001b[0m 666ms/step - accuracy: 0.1011 - loss: 2.6232 - val_accuracy: 0.1055 - val_loss: 4.9228\n",
            "Epoch 3/100\n",
            "\u001b[1m57/57\u001b[0m \u001b[32m━━━━━━━━━━━━━━━━━━━━\u001b[0m\u001b[37m\u001b[0m \u001b[1m44s\u001b[0m 668ms/step - accuracy: 0.1043 - loss: 2.7086 - val_accuracy: 0.1176 - val_loss: 3.7001\n",
            "Epoch 4/100\n",
            "\u001b[1m57/57\u001b[0m \u001b[32m━━━━━━━━━━━━━━━━━━━━\u001b[0m\u001b[37m\u001b[0m \u001b[1m45s\u001b[0m 691ms/step - accuracy: 0.1026 - loss: 2.6929 - val_accuracy: 0.1231 - val_loss: 14.1779\n",
            "Epoch 5/100\n",
            "\u001b[1m57/57\u001b[0m \u001b[32m━━━━━━━━━━━━━━━━━━━━\u001b[0m\u001b[37m\u001b[0m \u001b[1m43s\u001b[0m 666ms/step - accuracy: 0.1016 - loss: 2.7061 - val_accuracy: 0.1011 - val_loss: 124.3568\n",
            "Epoch 6/100\n",
            "\u001b[1m57/57\u001b[0m \u001b[32m━━━━━━━━━━━━━━━━━━━━\u001b[0m\u001b[37m\u001b[0m \u001b[1m45s\u001b[0m 693ms/step - accuracy: 0.0936 - loss: 2.7541 - val_accuracy: 0.1385 - val_loss: 155.7221\n",
            "Epoch 7/100\n",
            "\u001b[1m57/57\u001b[0m \u001b[32m━━━━━━━━━━━━━━━━━━━━\u001b[0m\u001b[37m\u001b[0m \u001b[1m43s\u001b[0m 663ms/step - accuracy: 0.1026 - loss: 2.7421 - val_accuracy: 0.1022 - val_loss: 308.8670\n",
            "Epoch 8/100\n",
            "\u001b[1m57/57\u001b[0m \u001b[32m━━━━━━━━━━━━━━━━━━━━\u001b[0m\u001b[37m\u001b[0m \u001b[1m43s\u001b[0m 666ms/step - accuracy: 0.0944 - loss: 2.7602 - val_accuracy: 0.1308 - val_loss: 162.2137\n",
            "Epoch 9/100\n",
            "\u001b[1m57/57\u001b[0m \u001b[32m━━━━━━━━━━━━━━━━━━━━\u001b[0m\u001b[37m\u001b[0m \u001b[1m43s\u001b[0m 665ms/step - accuracy: 0.1196 - loss: 2.7327 - val_accuracy: 0.1011 - val_loss: 513.5306\n",
            "Epoch 10/100\n",
            "\u001b[1m 5/57\u001b[0m \u001b[32m━\u001b[0m\u001b[37m━━━━━━━━━━━━━━━━━━━\u001b[0m \u001b[1m41s\u001b[0m 790ms/step - accuracy: 0.0956 - loss: 2.7264"
          ]
        }
      ]
    },
    {
      "cell_type": "code",
      "execution_count": null,
      "metadata": {
        "id": "m97aVVwubQIR"
      },
      "outputs": [],
      "source": []
    },
    {
      "cell_type": "code",
      "execution_count": null,
      "metadata": {
        "id": "EC2ffHf9bQE2"
      },
      "outputs": [],
      "source": []
    },
    {
      "cell_type": "code",
      "execution_count": null,
      "metadata": {
        "id": "MwPyrvTfbQCV"
      },
      "outputs": [],
      "source": []
    }
  ],
  "metadata": {
    "accelerator": "GPU",
    "colab": {
      "gpuType": "A100",
      "machine_shape": "hm",
      "provenance": []
    },
    "kernelspec": {
      "display_name": "Python 3",
      "name": "python3"
    },
    "language_info": {
      "name": "python"
    }
  },
  "nbformat": 4,
  "nbformat_minor": 0
}